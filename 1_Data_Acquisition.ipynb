{
  "cells": [
    {
      "cell_type": "markdown",
      "metadata": {
        "id": "QkwofQtj43mQ"
      },
      "source": [
        "#1. DATA ACQUISITION"
      ]
    },
    {
      "cell_type": "markdown",
      "metadata": {
        "id": "mR2OwDk_5Ezn"
      },
      "source": [
        "a. DATA AVAILABLE SCENARIOS:\n",
        "\n",
        "i. Data on your desk\n",
        "\n",
        "ii. Data in database\n",
        "\n",
        "iii. Less data\n",
        "\n",
        "\n",
        "1.   Synonym Replacement\n",
        "2.   Bigram Flip : Alter word sequence\n",
        "3.   Back Translation : Translate text to another language & back to original language\n",
        "4. Adding noise\n",
        "\n",
        "\n",
        "\n"
      ]
    },
    {
      "cell_type": "markdown",
      "metadata": {
        "id": "IqBLYLhJ8K5R"
      },
      "source": [
        "#1. Synonym Replacement"
      ]
    },
    {
      "cell_type": "code",
      "execution_count": null,
      "metadata": {
        "colab": {
          "base_uri": "https://localhost:8080/"
        },
        "id": "ps_vnSil-0-B",
        "outputId": "acd57245-f53a-4f4b-d07a-23a3c2353270"
      },
      "outputs": [
        {
          "name": "stderr",
          "output_type": "stream",
          "text": [
            "[nltk_data] Error loading wordnet: <urlopen error [Errno 11001]\n",
            "[nltk_data]     getaddrinfo failed>\n",
            "[nltk_data] Error loading omw-1.4: <urlopen error [Errno 11001]\n",
            "[nltk_data]     getaddrinfo failed>\n",
            "[nltk_data] Error loading punkt: <urlopen error [Errno 11001]\n",
            "[nltk_data]     getaddrinfo failed>\n"
          ]
        },
        {
          "data": {
            "text/plain": [
              "False"
            ]
          },
          "execution_count": 1,
          "metadata": {},
          "output_type": "execute_result"
        }
      ],
      "source": [
        "import random\n",
        "import nltk\n",
        "from nltk.corpus import wordnet\n",
        "nltk.download('wordnet')\n",
        "nltk.download('omw-1.4')  \n",
        "nltk.download('punkt')   "
      ]
    },
    {
      "cell_type": "code",
      "execution_count": 2,
      "metadata": {
        "id": "iXVIJ2QV-Fw8"
      },
      "outputs": [],
      "source": [
        "text = \"The movie was absolutely fantastic and enjoyable\""
      ]
    },
    {
      "cell_type": "code",
      "execution_count": 3,
      "metadata": {
        "id": "THzJGN6i7Uy5"
      },
      "outputs": [],
      "source": [
        "def get_synonyms(word):\n",
        "    synonyms = set()\n",
        "    for syn in wordnet.synsets(word):\n",
        "        for lemma in syn.lemmas():\n",
        "            synonym = lemma.name().replace('_', ' ')\n",
        "            if synonym.lower() != word.lower():\n",
        "                synonyms.add(synonym)\n",
        "    return list(synonyms)\n",
        "\n",
        "def synonym_replacement(text, n=2):\n",
        "    words = nltk.word_tokenize(text)\n",
        "    new_words = words.copy()\n",
        "    random_word_list = list(set([word for word in words if word.isalpha()]))\n",
        "    random.shuffle(random_word_list)\n",
        "\n",
        "    num_replaced = 0\n",
        "    for word in random_word_list:\n",
        "        synonyms = get_synonyms(word)\n",
        "        if synonyms:\n",
        "            synonym = random.choice(synonyms)\n",
        "            new_words = [synonym if w == word else w for w in new_words]\n",
        "            num_replaced += 1\n",
        "        if num_replaced >= n:\n",
        "            break\n",
        "\n",
        "    return ' '.join(new_words)"
      ]
    },
    {
      "cell_type": "code",
      "execution_count": null,
      "metadata": {
        "colab": {
          "base_uri": "https://localhost:8080/"
        },
        "id": "tx7DjRnc-hZ_",
        "outputId": "7d9c4358-2760-4ece-87ac-ab049bb3eaf7"
      },
      "outputs": [
        {
          "name": "stdout",
          "output_type": "stream",
          "text": [
            "Original: The movie was absolutely fantastic and enjoyable\n",
            "Augmented: The film exist absolutely fantastic and enjoyable\n"
          ]
        }
      ],
      "source": [
        "original = \"The movie was absolutely fantastic and enjoyable\"\n",
        "augmented = synonym_replacement(original, n=2)\n",
        "\n",
        "print(\"Original:\", original)\n",
        "print(\"Augmented:\", augmented)  "
      ]
    },
    {
      "cell_type": "markdown",
      "metadata": {
        "id": "euQttJG58ufP"
      },
      "source": [
        "#2. Bigram Flip: Alter word sequence"
      ]
    },
    {
      "cell_type": "code",
      "execution_count": null,
      "metadata": {
        "colab": {
          "base_uri": "https://localhost:8080/"
        },
        "id": "lDZsTgxq7972",
        "outputId": "ea45611f-e49f-4735-87fb-3bfe6cd9466b"
      },
      "outputs": [
        {
          "name": "stderr",
          "output_type": "stream",
          "text": [
            "[nltk_data] Downloading package punkt to /root/nltk_data...\n",
            "[nltk_data]   Package punkt is already up-to-date!\n"
          ]
        }
      ],
      "source": [
        "import random\n",
        "import nltk\n",
        "nltk.download('punkt')\n",
        "\n",
        "def bigram_flip(text):\n",
        "    words = nltk.word_tokenize(text)\n",
        "    new_words = words.copy()\n",
        "\n",
        "    indices = list(range(len(words) - 1))\n",
        "    if not indices:\n",
        "        return text \n",
        "    flip_index = random.choice(indices)\n",
        "\n",
        "    new_words[flip_index], new_words[flip_index + 1] = new_words[flip_index + 1], new_words[flip_index]\n",
        "\n",
        "    return ' '.join(new_words)"
      ]
    },
    {
      "cell_type": "code",
      "execution_count": null,
      "metadata": {
        "colab": {
          "base_uri": "https://localhost:8080/"
        },
        "id": "dVdUDkqT85nK",
        "outputId": "3dd58b95-6f18-4df9-cd0f-e94849fdcebd"
      },
      "outputs": [
        {
          "name": "stdout",
          "output_type": "stream",
          "text": [
            "Original: The movie was absolutely fantastic and enjoyable\n",
            "Augmented: movie The was absolutely fantastic and enjoyable\n"
          ]
        }
      ],
      "source": [
        "text2 = \"The movie was absolutely fantastic and enjoyable\"\n",
        "augmented2 = bigram_flip(text2)\n",
        "print(\"Original:\", text2)\n",
        "print(\"Augmented:\", augmented2)"
      ]
    },
    {
      "cell_type": "markdown",
      "metadata": {
        "id": "5PPk-ajC_gAI"
      },
      "source": [
        "#3. Back Translation: Translate text to another language and back to original language"
      ]
    },
    {
      "cell_type": "code",
      "execution_count": null,
      "metadata": {
        "colab": {
          "base_uri": "https://localhost:8080/"
        },
        "id": "J-zyLfhX_5G4",
        "outputId": "ec7d7b33-c296-4a27-878e-10126fdaf940"
      },
      "outputs": [],
      "source": [
        "!pip install deep-translator"
      ]
    },
    {
      "cell_type": "code",
      "execution_count": null,
      "metadata": {
        "id": "3O0HxAlD_WoA"
      },
      "outputs": [],
      "source": [
        "from deep_translator import GoogleTranslator\n",
        "\n",
        "def back_translate_verbose(text, intermediate_lang='fr'):\n",
        "    try:\n",
        "        translated = GoogleTranslator(source='auto', target=intermediate_lang).translate(text)\n",
        "\n",
        "        back_translated = GoogleTranslator(source='auto', target='en').translate(translated)\n",
        "\n",
        "        print(f\"Original: {text}\")\n",
        "        print(f\"Translated ({intermediate_lang}): {translated}\")\n",
        "        print(f\"Back Translated (English): {back_translated}\")\n",
        "\n",
        "        return back_translated\n",
        "    except Exception as e:\n",
        "        print(\"Translation error:\", e)\n",
        "        return text"
      ]
    },
    {
      "cell_type": "code",
      "execution_count": null,
      "metadata": {
        "colab": {
          "base_uri": "https://localhost:8080/"
        },
        "id": "saqjnhxj_-HS",
        "outputId": "f013d89e-a14c-4774-9abc-2a96023b5ebc"
      },
      "outputs": [
        {
          "name": "stdout",
          "output_type": "stream",
          "text": [
            "Original: The movie was absolutely fantastic and enjoyable\n",
            "Translated (fr): Le film était absolument fantastique et agréable\n",
            "Back Translated (English): The film was absolutely fantastic and pleasant\n"
          ]
        }
      ],
      "source": [
        "text3 = \"The movie was absolutely fantastic and enjoyable\"\n",
        "augmented3 = back_translate_verbose(text3, intermediate_lang='fr')"
      ]
    },
    {
      "cell_type": "markdown",
      "metadata": {
        "id": "h9IVby1qBECO"
      },
      "source": [
        "#4. Adding Noise\n",
        "\n",
        "There are several ways to introduce noise:\n",
        "\n",
        "1. Random character swaps\n",
        "\n",
        "2. Random deletions\n",
        "\n",
        "3. Keyboard typos"
      ]
    },
    {
      "cell_type": "markdown",
      "metadata": {
        "id": "_VUtMdBvCEoY"
      },
      "source": [
        "1. Random character swaps"
      ]
    },
    {
      "cell_type": "code",
      "execution_count": null,
      "metadata": {
        "id": "CxuTcvWt__hz"
      },
      "outputs": [],
      "source": [
        "#Random character swaps\n",
        "import random\n",
        "\n",
        "def add_noise(text, noise_level=0.1):\n",
        "    text_chars = list(text)\n",
        "    num_noisy = int(len(text_chars) * noise_level)\n",
        "\n",
        "    for _ in range(num_noisy):\n",
        "        idx = random.randint(0, len(text_chars) - 2)\n",
        "        text_chars[idx], text_chars[idx + 1] = text_chars[idx + 1], text_chars[idx]\n",
        "\n",
        "    return ''.join(text_chars)"
      ]
    },
    {
      "cell_type": "code",
      "execution_count": null,
      "metadata": {
        "colab": {
          "base_uri": "https://localhost:8080/"
        },
        "id": "GAqGLvdKBQFT",
        "outputId": "bd00d1f0-1934-4311-8f2e-3f1d200048cb"
      },
      "outputs": [
        {
          "name": "stdout",
          "output_type": "stream",
          "text": [
            "Original: The movie was absolutely fantastic and enjoyable\n",
            "Augmented (Noisy): hTe movei was absolutely anftastic and enjoyable\n"
          ]
        }
      ],
      "source": [
        "text4 = \"The movie was absolutely fantastic and enjoyable\"\n",
        "augmented4 = add_noise(text4, noise_level=0.1) \n",
        "print(\"Original:\", text4)\n",
        "print(\"Augmented (Noisy):\", augmented4)"
      ]
    },
    {
      "cell_type": "markdown",
      "metadata": {
        "id": "ONXkcVLDCIGg"
      },
      "source": [
        "2. Random Deletion"
      ]
    },
    {
      "cell_type": "code",
      "execution_count": null,
      "metadata": {
        "id": "aTxw1QyCBQry"
      },
      "outputs": [],
      "source": [
        "#Random deletion\n",
        "import random\n",
        "\n",
        "def random_deletion(text, deletion_prob=0.2):\n",
        "    words = text.split()\n",
        "    if len(words) == 1:\n",
        "        return text  \n",
        "\n",
        "    new_words = []\n",
        "    for word in words:\n",
        "        r = random.random()\n",
        "        if r > deletion_prob:\n",
        "            new_words.append(word)\n",
        "\n",
        "    if not new_words:\n",
        "        new_words.append(random.choice(words))\n",
        "    return ' '.join(new_words)"
      ]
    },
    {
      "cell_type": "code",
      "execution_count": null,
      "metadata": {},
      "outputs": [
        {
          "name": "stdout",
          "output_type": "stream",
          "text": [
            "Original: The movie was absolutely fantastic and enjoyable\n",
            "Augmented (Random Deletion): The movie fantastic and enjoyable\n"
          ]
        }
      ],
      "source": [
        "text5 = \"The movie was absolutely fantastic and enjoyable\"\n",
        "augmented5 = random_deletion(text5, deletion_prob=0.2)\n",
        "print(\"Original:\", text5)\n",
        "print(\"Augmented (Random Deletion):\", augmented5)"
      ]
    },
    {
      "cell_type": "markdown",
      "metadata": {
        "id": "i8xSnYHzCKxQ"
      },
      "source": [
        "3. Keyboard typos"
      ]
    },
    {
      "cell_type": "code",
      "execution_count": null,
      "metadata": {
        "id": "oe5ZygO1Bphl"
      },
      "outputs": [],
      "source": [
        "#keyboard typos\n",
        "import random\n",
        "\n",
        "qwerty_neighbors = {\n",
        "    'a': ['s', 'q', 'z'],\n",
        "    'b': ['v', 'g', 'h', 'n'],\n",
        "    'c': ['x', 'd', 'f', 'v'],\n",
        "    'd': ['s', 'e', 'r', 'f', 'c', 'x'],\n",
        "    'e': ['w', 's', 'd', 'r'],\n",
        "    'f': ['d', 'r', 't', 'g', 'v', 'c'],\n",
        "    'g': ['f', 't', 'y', 'h', 'b', 'v'],\n",
        "    'h': ['g', 'y', 'u', 'j', 'n', 'b'],\n",
        "    'i': ['u', 'j', 'k', 'o'],\n",
        "    'j': ['h', 'u', 'i', 'k', 'n', 'm'],\n",
        "    'k': ['j', 'i', 'o', 'l', 'm'],\n",
        "    'l': ['k', 'o', 'p'],\n",
        "    'm': ['n', 'j', 'k'],\n",
        "    'n': ['b', 'h', 'j', 'm'],\n",
        "    'o': ['i', 'k', 'l', 'p'],\n",
        "    'p': ['o', 'l'],\n",
        "    'q': ['a', 's', 'w'],\n",
        "    'r': ['e', 'd', 'f', 't'],\n",
        "    's': ['a', 'w', 'e', 'd', 'x', 'z'],\n",
        "    't': ['r', 'f', 'g', 'y'],\n",
        "    'u': ['y', 'h', 'j', 'i'],\n",
        "    'v': ['c', 'f', 'g', 'b'],\n",
        "    'w': ['q', 'a', 's', 'e'],\n",
        "    'x': ['z', 's', 'd', 'c'],\n",
        "    'y': ['t', 'g', 'h', 'u'],\n",
        "    'z': ['a', 's', 'x']\n",
        "}\n",
        "\n",
        "def keyboard_typo(text, typo_prob=0.1):\n",
        "    new_text = []\n",
        "    for char in text:\n",
        "        if char.lower() in qwerty_neighbors and random.random() < typo_prob:\n",
        "            replacement = random.choice(qwerty_neighbors[char.lower()])\n",
        "            new_char = replacement.upper() if char.isupper() else replacement\n",
        "            new_text.append(new_char)\n",
        "        else:\n",
        "            new_text.append(char)\n",
        "    return ''.join(new_text)"
      ]
    },
    {
      "cell_type": "code",
      "execution_count": 74,
      "metadata": {
        "colab": {
          "base_uri": "https://localhost:8080/"
        },
        "id": "zuY9r7uMB5zz",
        "outputId": "deff1379-64de-4010-d334-b337bcc4f173"
      },
      "outputs": [
        {
          "name": "stdout",
          "output_type": "stream",
          "text": [
            "Original: The movie was absolutely fantastic and enjoyable\n",
            "Augmented (Keyboard Typos): The movie was absolutely fantastic and enjoyanle\n"
          ]
        }
      ],
      "source": [
        "# Example\n",
        "text6 = \"The movie was absolutely fantastic and enjoyable\"\n",
        "augmented6 = keyboard_typo(text6, typo_prob=0.1)\n",
        "print(\"Original:\", text6)\n",
        "print(\"Augmented (Keyboard Typos):\", augmented6)"
      ]
    },
    {
      "cell_type": "markdown",
      "metadata": {
        "id": "7u7AfrJNDc-9"
      },
      "source": [
        "#Continue...\n",
        "\n",
        "b. DATA FROM OTHER RESOURCES\n",
        "\n",
        "i. Public datasets\n",
        "\n",
        "ii. Web scrapping\n",
        "\n",
        "\n",
        "1.   Beautiful Soup\n",
        "2.   Selenium\n",
        "\n",
        "iii. API's: RAPID API for the list of all the API's\n",
        "\n",
        "iv. PDF's\n"
      ]
    },
    {
      "cell_type": "markdown",
      "metadata": {
        "id": "dgkshMzCEnWC"
      },
      "source": [
        "1. Beautiful Soup"
      ]
    },
    {
      "cell_type": "code",
      "execution_count": null,
      "metadata": {
        "colab": {
          "base_uri": "https://localhost:8080/"
        },
        "id": "w5AvIX-3EsLC",
        "outputId": "0b7875bb-6a71-4478-c3cb-46d1e29ee74d"
      },
      "outputs": [
        {
          "name": "stdout",
          "output_type": "stream",
          "text": [
            "Requirement already satisfied: requests in /usr/local/lib/python3.11/dist-packages (2.32.3)\n",
            "Requirement already satisfied: beautifulsoup4 in /usr/local/lib/python3.11/dist-packages (4.13.4)\n",
            "Requirement already satisfied: charset-normalizer<4,>=2 in /usr/local/lib/python3.11/dist-packages (from requests) (3.4.2)\n",
            "Requirement already satisfied: idna<4,>=2.5 in /usr/local/lib/python3.11/dist-packages (from requests) (2.10)\n",
            "Requirement already satisfied: urllib3<3,>=1.21.1 in /usr/local/lib/python3.11/dist-packages (from requests) (2.5.0)\n",
            "Requirement already satisfied: certifi>=2017.4.17 in /usr/local/lib/python3.11/dist-packages (from requests) (2025.7.14)\n",
            "Requirement already satisfied: soupsieve>1.2 in /usr/local/lib/python3.11/dist-packages (from beautifulsoup4) (2.7)\n",
            "Requirement already satisfied: typing-extensions>=4.0.0 in /usr/local/lib/python3.11/dist-packages (from beautifulsoup4) (4.14.1)\n"
          ]
        }
      ],
      "source": [
        "!pip install requests beautifulsoup4\n"
      ]
    },
    {
      "cell_type": "code",
      "execution_count": 92,
      "metadata": {
        "colab": {
          "base_uri": "https://localhost:8080/"
        },
        "id": "Ad-nMH5VCA-D",
        "outputId": "260733cb-48a0-47ea-d60b-119774d88297"
      },
      "outputs": [
        {
          "name": "stdout",
          "output_type": "stream",
          "text": [
            "Quotes with HTML Tags:\n",
            "\n",
            "1. Quote: <span class=\"text\" itemprop=\"text\">“The world as we have created it is a process of our thinking. It cannot be changed without changing our thinking.”</span>\n",
            "   Author: <small class=\"author\" itemprop=\"author\">Albert Einstein</small>\n",
            "   Tags: <a class=\"tag\" href=\"/tag/change/page/1/\">change</a> | <a class=\"tag\" href=\"/tag/deep-thoughts/page/1/\">deep-thoughts</a> | <a class=\"tag\" href=\"/tag/thinking/page/1/\">thinking</a> | <a class=\"tag\" href=\"/tag/world/page/1/\">world</a>\n",
            "\n",
            "2. Quote: <span class=\"text\" itemprop=\"text\">“It is our choices, Harry, that show what we truly are, far more than our abilities.”</span>\n",
            "   Author: <small class=\"author\" itemprop=\"author\">J.K. Rowling</small>\n",
            "   Tags: <a class=\"tag\" href=\"/tag/abilities/page/1/\">abilities</a> | <a class=\"tag\" href=\"/tag/choices/page/1/\">choices</a>\n",
            "\n",
            "3. Quote: <span class=\"text\" itemprop=\"text\">“There are only two ways to live your life. One is as though nothing is a miracle. The other is as though everything is a miracle.”</span>\n",
            "   Author: <small class=\"author\" itemprop=\"author\">Albert Einstein</small>\n",
            "   Tags: <a class=\"tag\" href=\"/tag/inspirational/page/1/\">inspirational</a> | <a class=\"tag\" href=\"/tag/life/page/1/\">life</a> | <a class=\"tag\" href=\"/tag/live/page/1/\">live</a> | <a class=\"tag\" href=\"/tag/miracle/page/1/\">miracle</a> | <a class=\"tag\" href=\"/tag/miracles/page/1/\">miracles</a>\n",
            "\n",
            "4. Quote: <span class=\"text\" itemprop=\"text\">“The person, be it gentleman or lady, who has not pleasure in a good novel, must be intolerably stupid.”</span>\n",
            "   Author: <small class=\"author\" itemprop=\"author\">Jane Austen</small>\n",
            "   Tags: <a class=\"tag\" href=\"/tag/aliteracy/page/1/\">aliteracy</a> | <a class=\"tag\" href=\"/tag/books/page/1/\">books</a> | <a class=\"tag\" href=\"/tag/classic/page/1/\">classic</a> | <a class=\"tag\" href=\"/tag/humor/page/1/\">humor</a>\n",
            "\n",
            "5. Quote: <span class=\"text\" itemprop=\"text\">“Imperfection is beauty, madness is genius and it's better to be absolutely ridiculous than absolutely boring.”</span>\n",
            "   Author: <small class=\"author\" itemprop=\"author\">Marilyn Monroe</small>\n",
            "   Tags: <a class=\"tag\" href=\"/tag/be-yourself/page/1/\">be-yourself</a> | <a class=\"tag\" href=\"/tag/inspirational/page/1/\">inspirational</a>\n",
            "\n"
          ]
        }
      ],
      "source": [
        "import requests\n",
        "from bs4 import BeautifulSoup\n",
        "\n",
        "url = \"http://quotes.toscrape.com/\"\n",
        "response = requests.get(url)\n",
        "soup = BeautifulSoup(response.content, \"html.parser\")\n",
        "\n",
        "quotes_data = soup.find_all(\"div\", class_=\"quote\")\n",
        "\n",
        "print(\"Quotes with HTML Tags:\\n\")\n",
        "for i, quote_block in enumerate(quotes_data[:5], 1):\n",
        "    quote_html = str(quote_block.find(\"span\", class_=\"text\"))\n",
        "    author_html = str(quote_block.find(\"small\", class_=\"author\"))\n",
        "    tag_elements = quote_block.find_all(\"a\", class_=\"tag\")\n",
        "    tags_html = [str(tag) for tag in tag_elements]\n",
        "\n",
        "    print(f\"{i}. Quote: {quote_html}\")\n",
        "    print(f\"   Author: {author_html}\")\n",
        "    print(f\"   Tags: {' | '.join(tags_html)}\\n\")\n"
      ]
    },
    {
      "cell_type": "markdown",
      "metadata": {
        "id": "YzWUbBiqGlzG"
      },
      "source": [
        "#Continue...\n",
        "\n",
        "c. NOBODY HAS THE DATA\n",
        "\n",
        "i. Engaging trusted client\n",
        "\n",
        "ii. Data Generation"
      ]
    },
    {
      "cell_type": "code",
      "execution_count": null,
      "metadata": {
        "id": "hPx5F__MGJPH"
      },
      "outputs": [],
      "source": []
    }
  ],
  "metadata": {
    "colab": {
      "provenance": []
    },
    "kernelspec": {
      "display_name": ".venv (3.13.5)",
      "language": "python",
      "name": "python3"
    },
    "language_info": {
      "codemirror_mode": {
        "name": "ipython",
        "version": 3
      },
      "file_extension": ".py",
      "mimetype": "text/x-python",
      "name": "python",
      "nbconvert_exporter": "python",
      "pygments_lexer": "ipython3",
      "version": "3.13.5"
    }
  },
  "nbformat": 4,
  "nbformat_minor": 0
}
